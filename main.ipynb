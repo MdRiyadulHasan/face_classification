{
 "cells": [
  {
   "cell_type": "code",
   "execution_count": 1,
   "id": "3cba4e85",
   "metadata": {},
   "outputs": [],
   "source": [
    "from os import makedirs\n",
    "from os import listdir\n",
    "from shutil import copyfile\n",
    "from random import seed\n",
    "from random import random\n",
    "from numpy import asarray\n",
    "from numpy import save"
   ]
  },
  {
   "cell_type": "code",
   "execution_count": 2,
   "id": "bce428e5",
   "metadata": {},
   "outputs": [],
   "source": [
    "import tensorflow\n",
    "from tensorflow.keras.preprocessing.image import load_img\n",
    "from tensorflow.keras.preprocessing.image import img_to_array"
   ]
  },
  {
   "cell_type": "code",
   "execution_count": 3,
   "id": "3d53e69d",
   "metadata": {},
   "outputs": [],
   "source": [
    "dataset_home = 'datasets/'\n",
    "subdirs = ['train/', 'test/']\n",
    "for subdir in subdirs:\n",
    "    labeldirs = ['Afridi/', 'Messi/','Ronaldo/']\n",
    "    for labldir in labeldirs:\n",
    "        newdir = dataset_home + subdir + labldir\n",
    "        makedirs(newdir, exist_ok=True)\n",
    "seed(1)\n",
    "val_ratio = 0.10\n",
    "src_directory = 'all_images/'\n",
    "for file in listdir(src_directory):\n",
    "    src = src_directory + '/' + file\n",
    "    dst_dir = 'train/'\n",
    "    if random() < val_ratio:\n",
    "        dst_dir = 'test/'\n",
    "    if file.startswith('afridi'):\n",
    "        dst = dataset_home + dst_dir + 'Afridi/'  + file\n",
    "        copyfile(src, dst)\n",
    "    elif file.startswith('messi'):\n",
    "        dst = dataset_home + dst_dir + 'Messi/'  + file\n",
    "        copyfile(src, dst) \n",
    "    elif file.startswith('ronaldo'):\n",
    "        dst = dataset_home + dst_dir + 'Ronaldo/'  + file\n",
    "        copyfile(src, dst) "
   ]
  },
  {
   "cell_type": "code",
   "execution_count": 4,
   "id": "fe1b1693",
   "metadata": {},
   "outputs": [],
   "source": [
    "from tensorflow.keras.preprocessing.image import ImageDataGenerator"
   ]
  },
  {
   "cell_type": "code",
   "execution_count": 5,
   "id": "17d98a83",
   "metadata": {},
   "outputs": [
    {
     "name": "stdout",
     "output_type": "stream",
     "text": [
      "Found 284 images belonging to 3 classes.\n",
      "Found 35 images belonging to 3 classes.\n"
     ]
    }
   ],
   "source": [
    "datagen = ImageDataGenerator(rescale=1.0/255.0)\n",
    "train_it= datagen.flow_from_directory('datasets/train/', batch_size=64, class_mode='categorical', target_size=(200, 200))\n",
    "test_it = datagen.flow_from_directory('datasets/test/',  batch_size=64, class_mode='categorical', target_size=(200, 200))"
   ]
  },
  {
   "cell_type": "code",
   "execution_count": 6,
   "id": "70aa1f17",
   "metadata": {},
   "outputs": [],
   "source": [
    "from tensorflow.keras.utils import to_categorical\n",
    "from tensorflow.keras.models import Sequential\n",
    "from tensorflow.keras.layers import Conv2D\n",
    "from tensorflow.keras.layers import MaxPooling2D,MaxPool2D\n",
    "from tensorflow.keras.layers import Dense\n",
    "from tensorflow.keras.layers import Flatten\n",
    "from tensorflow.keras.layers import Dropout, BatchNormalization"
   ]
  },
  {
   "cell_type": "code",
   "execution_count": 7,
   "id": "02e361a1",
   "metadata": {},
   "outputs": [
    {
     "name": "stdout",
     "output_type": "stream",
     "text": [
      "Model: \"sequential\"\n",
      "Model: \"sequential\"\n",
      "_________________________________________________________________\n",
      " Layer (type)                Output Shape              Param #   \n",
      "_________________________________________________________________\n",
      "=================================================================\n",
      " Layer (type)                Output Shape              Param #   \n",
      "=================================================================\n",
      " conv2d (Conv2D)             (None, 200, 200, 32)      896       \n",
      "                                                                 \n",
      " batch_normalization (BatchN  (None, 200, 200, 32)     128       \n",
      " ormalization)                                                   \n",
      "                                                                 \n",
      " conv2d_1 (Conv2D)           (None, 200, 200, 32)      9248      \n",
      " conv2d (Conv2D)             (None, 200, 200, 32)      896       \n",
      "                                                                 \n",
      " batch_normalization (BatchN  (None, 200, 200, 32)     128       \n",
      " ormalization)                                                   \n",
      "                                                                 \n",
      " conv2d_1 (Conv2D)           (None, 200, 200, 32)      9248      \n",
      "                                                                 \n",
      " max_pooling2d (MaxPooling2D  (None, 100, 100, 32)     0         \n",
      " )                                                               \n",
      "                                                                 \n",
      "                                                                 \n",
      " max_pooling2d (MaxPooling2D  (None, 100, 100, 32)     0         \n",
      " )                                                               \n",
      "                                                                 \n",
      " dropout (Dropout)           (None, 100, 100, 32)      0         \n",
      " dropout (Dropout)           (None, 100, 100, 32)      0         \n",
      "                                                                 \n",
      " conv2d_2 (Conv2D)           (None, 100, 100, 64)      18496     \n",
      "                                                                 \n",
      " batch_normalization_1 (Batc  (None, 100, 100, 64)     256       \n",
      "                                                                 \n",
      " conv2d_2 (Conv2D)           (None, 100, 100, 64)      18496     \n",
      "                                                                 \n",
      " batch_normalization_1 (Batc  (None, 100, 100, 64)     256       \n",
      " hNormalization)                                                 \n",
      "                                                                 \n",
      " conv2d_3 (Conv2D)           (None, 100, 100, 64)      36928     \n",
      " hNormalization)                                                 \n",
      "                                                                 \n",
      " conv2d_3 (Conv2D)           (None, 100, 100, 64)      36928     \n",
      "                                                                 \n",
      "                                                                 \n",
      " max_pooling2d_1 (MaxPooling  (None, 50, 50, 64)       0         \n",
      " 2D)                                                             \n",
      "                                                                 \n",
      " dropout_1 (Dropout)         (None, 50, 50, 64)        0         \n",
      " max_pooling2d_1 (MaxPooling  (None, 50, 50, 64)       0         \n",
      " 2D)                                                             \n",
      "                                                                 \n",
      " dropout_1 (Dropout)         (None, 50, 50, 64)        0         \n",
      "                                                                 \n",
      " conv2d_4 (Conv2D)           (None, 50, 50, 128)       73856     \n",
      "                                                                 \n",
      " conv2d_4 (Conv2D)           (None, 50, 50, 128)       73856     \n",
      "                                                                 \n",
      " batch_normalization_2 (Batc  (None, 50, 50, 128)      512       \n",
      " hNormalization)                                                 \n",
      "                                                                 \n",
      " batch_normalization_2 (Batc  (None, 50, 50, 128)      512       \n",
      " hNormalization)                                                 \n",
      "                                                                 \n",
      "                                                                 \n",
      " conv2d_5 (Conv2D)           (None, 50, 50, 128)       147584    \n",
      " conv2d_5 (Conv2D)           (None, 50, 50, 128)       147584    \n",
      "                                                                 \n",
      "                                                                 \n",
      " max_pooling2d_2 (MaxPooling  (None, 25, 25, 128)      0         \n",
      " 2D)                                                             \n",
      "                                                                 \n",
      " max_pooling2d_2 (MaxPooling  (None, 25, 25, 128)      0         \n",
      " 2D)                                                             \n",
      "                                                                 \n",
      " dropout_2 (Dropout)         (None, 25, 25, 128)       0         \n",
      " dropout_2 (Dropout)         (None, 25, 25, 128)       0         \n",
      "                                                                 \n",
      " flatten (Flatten)           (None, 80000)             0         \n",
      "                                                                 \n",
      " dense (Dense)               (None, 128)               10240128  \n",
      "                                                                 \n",
      " flatten (Flatten)           (None, 80000)             0         \n",
      "                                                                 \n",
      " dense (Dense)               (None, 128)               10240128  \n",
      "                                                                 \n",
      "                                                                 \n",
      " batch_normalization_3 (Batc  (None, 128)              512       \n",
      " hNormalization)                                                 \n",
      "                                                                 \n",
      " dropout_3 (Dropout)         (None, 128)               0         \n",
      " batch_normalization_3 (Batc  (None, 128)              512       \n",
      " hNormalization)                                                 \n",
      "                                                                 \n",
      " dropout_3 (Dropout)         (None, 128)               0         \n",
      "                                                                 \n",
      "                                                                 \n",
      " dense_1 (Dense)             (None, 1)                 129       \n",
      "                                                                 \n",
      "=================================================================\n",
      "Total params: 10,528,673\n",
      "Trainable params: 10,527,969\n",
      "Non-trainable params: 704\n",
      " dense_1 (Dense)             (None, 1)                 129       \n",
      "                                                                 \n",
      "=================================================================\n",
      "Total params: 10,528,673\n",
      "Trainable params: 10,527,969\n",
      "Non-trainable params: 704\n",
      "_________________________________________________________________\n",
      "_________________________________________________________________\n"
     ]
    }
   ],
   "source": [
    "#def define_model():\n",
    "    model = Sequential()\n",
    "    model.add(Conv2D(32, (3, 3), activation='relu', kernel_initializer='he_uniform', padding='same', input_shape=(200, 200, 3)))\n",
    "    model.add(BatchNormalization())\n",
    "    model.add(Conv2D(32, (3, 3), activation='relu', kernel_initializer='he_uniform', padding='same'))\n",
    "    model.add(MaxPooling2D((2, 2)))\n",
    "    model.add(Dropout(0.2))\n",
    "    model.add(Conv2D(64, (3, 3), activation='relu', kernel_initializer='he_uniform', padding='same'))\n",
    "    model.add(BatchNormalization())\n",
    "    model.add(Conv2D(64, (3, 3), activation='relu', kernel_initializer='he_uniform', padding='same'))   \n",
    "    model.add(MaxPooling2D((2, 2)))\n",
    "    model.add(Dropout(0.3))\n",
    "    model.add(Conv2D(128, (3, 3), activation='relu', kernel_initializer='he_uniform', padding='same'))\n",
    "    model.add(BatchNormalization())\n",
    "    model.add(Conv2D(128, (3, 3), activation='relu', kernel_initializer='he_uniform', padding='same'))\n",
    "    model.add(MaxPooling2D((2, 2)))\n",
    "    model.add(Dropout(0.4))\n",
    "    model.add(Flatten())\n",
    "    model.add(Dense(128, activation='relu', kernel_initializer='he_uniform'))\n",
    "    model.add(BatchNormalization())\n",
    "    model.add(Dropout(0.5))\n",
    "    model.add(Dense(1, activation='sigmoid'))\n",
    "    # compile model\n",
    "        \n",
    "    model.compile(optimizer='adam', loss='binary_crossentropy', metrics=['accuracy'])\n",
    "    model.summary()\n",
    "    return model\n",
    "model =define_model()"
   ]
  },
  {
   "cell_type": "code",
   "execution_count": 8,
   "id": "6c596bb4",
   "metadata": {},
   "outputs": [],
   "source": [
    "#history=model.fit(train_it, steps_per_epoch=len(train_it), validation_data=test_it, validation_steps=len(test_it), epochs=2, verbose=0)"
   ]
  },
  {
   "cell_type": "code",
   "execution_count": 7,
   "id": "1d7c33ae",
   "metadata": {},
   "outputs": [
    {
     "name": "stdout",
     "output_type": "stream",
     "text": [
      "Model: \"sequential\"\n",
      "_________________________________________________________________\n",
      " Layer (type)                Output Shape              Param #   \n",
      "=================================================================\n",
      " conv2d (Conv2D)             (None, 200, 200, 32)      896       \n",
      "                                                                 \n",
      " max_pooling2d (MaxPooling2D  (None, 100, 100, 32)     0         \n",
      " )                                                               \n",
      "                                                                 \n",
      " conv2d_1 (Conv2D)           (None, 100, 100, 32)      9248      \n",
      "                                                                 \n",
      " max_pooling2d_1 (MaxPooling  (None, 50, 50, 32)       0         \n",
      " 2D)                                                             \n",
      "                                                                 \n",
      " dropout (Dropout)           (None, 50, 50, 32)        0         \n",
      "                                                                 \n",
      " conv2d_2 (Conv2D)           (None, 50, 50, 64)        18496     \n",
      "                                                                 \n",
      " max_pooling2d_2 (MaxPooling  (None, 25, 25, 64)       0         \n",
      " 2D)                                                             \n",
      "                                                                 \n",
      " dropout_1 (Dropout)         (None, 25, 25, 64)        0         \n",
      "                                                                 \n",
      " flatten (Flatten)           (None, 40000)             0         \n",
      "                                                                 \n",
      " dense (Dense)               (None, 512)               20480512  \n",
      "                                                                 \n",
      " dropout_2 (Dropout)         (None, 512)               0         \n",
      "                                                                 \n",
      " dense_1 (Dense)             (None, 3)                 1539      \n",
      "                                                                 \n",
      "=================================================================\n",
      "Total params: 20,510,691\n",
      "Trainable params: 20,510,691\n",
      "Non-trainable params: 0\n",
      "_________________________________________________________________\n"
     ]
    }
   ],
   "source": [
    "def define_model1():\n",
    "    model=Sequential()\n",
    "    model.add(Conv2D(filters=32,kernel_size=(3,3),input_shape=(200,200,3),activation='relu',padding='same'))\n",
    "    model.add(MaxPool2D(pool_size=(2,2)))\n",
    "\n",
    "    model.add(Conv2D(filters=32,kernel_size=(3,3),activation='relu',padding='same'))\n",
    "    model.add(MaxPool2D(pool_size=(2,2)))\n",
    "    model.add(Dropout(0.25))\n",
    "\n",
    "    model.add(Conv2D(filters=64,kernel_size=(3,3),activation='relu',padding='same'))\n",
    "    model.add(MaxPool2D(pool_size=(2,2)))\n",
    "    model.add(Dropout(0.25))\n",
    "\n",
    "    model.add(Flatten())\n",
    "\n",
    "    model.add(Dense(512,activation='relu'))\n",
    "    model.add(Dropout(0.25))\n",
    "\n",
    "    model.add(Dense(3,activation='softmax'))\n",
    "    model.summary()\n",
    "    return model\n",
    "model= define_model1()"
   ]
  },
  {
   "cell_type": "code",
   "execution_count": 8,
   "id": "b516f43d",
   "metadata": {},
   "outputs": [],
   "source": [
    "model.compile(loss='categorical_crossentropy',optimizer='adam',metrics=['accuracy'])"
   ]
  },
  {
   "cell_type": "code",
   "execution_count": 9,
   "id": "54cfbc6d",
   "metadata": {},
   "outputs": [
    {
     "name": "stdout",
     "output_type": "stream",
     "text": [
      "Epoch 1/10\n",
      "5/5 [==============================] - 49s 9s/step - loss: 2.6856 - accuracy: 0.3627 - val_loss: 1.0979 - val_accuracy: 0.3143\n",
      "Epoch 2/10\n",
      "5/5 [==============================] - 22s 4s/step - loss: 1.1325 - accuracy: 0.3662 - val_loss: 1.0808 - val_accuracy: 0.4000\n",
      "Epoch 3/10\n",
      "5/5 [==============================] - 18s 3s/step - loss: 1.0727 - accuracy: 0.3803 - val_loss: 1.0869 - val_accuracy: 0.3714\n",
      "Epoch 4/10\n",
      "5/5 [==============================] - 19s 4s/step - loss: 1.0298 - accuracy: 0.4965 - val_loss: 1.0540 - val_accuracy: 0.4000\n",
      "Epoch 5/10\n",
      "5/5 [==============================] - 18s 3s/step - loss: 0.9253 - accuracy: 0.6549 - val_loss: 0.9974 - val_accuracy: 0.4286\n",
      "Epoch 6/10\n",
      "5/5 [==============================] - 18s 3s/step - loss: 0.8297 - accuracy: 0.6479 - val_loss: 0.9427 - val_accuracy: 0.4857\n",
      "Epoch 7/10\n",
      "5/5 [==============================] - 18s 3s/step - loss: 0.7620 - accuracy: 0.6866 - val_loss: 0.8926 - val_accuracy: 0.5714\n",
      "Epoch 8/10\n",
      "5/5 [==============================] - 19s 4s/step - loss: 0.6652 - accuracy: 0.7254 - val_loss: 0.8585 - val_accuracy: 0.5429\n",
      "Epoch 9/10\n",
      "5/5 [==============================] - 20s 4s/step - loss: 0.5574 - accuracy: 0.7887 - val_loss: 0.7971 - val_accuracy: 0.6286\n",
      "Epoch 10/10\n",
      "5/5 [==============================] - 19s 4s/step - loss: 0.4562 - accuracy: 0.8275 - val_loss: 0.8138 - val_accuracy: 0.6000\n"
     ]
    }
   ],
   "source": [
    "history=model.fit(train_it, epochs=10,steps_per_epoch=len(train_it), validation_data=test_it, validation_steps=len(test_it))"
   ]
  },
  {
   "cell_type": "code",
   "execution_count": 10,
   "id": "2bf0eb44",
   "metadata": {},
   "outputs": [
    {
     "data": {
      "text/plain": [
       "5"
      ]
     },
     "execution_count": 10,
     "metadata": {},
     "output_type": "execute_result"
    }
   ],
   "source": [
    "len(train_it)"
   ]
  },
  {
   "cell_type": "code",
   "execution_count": 11,
   "id": "385332de",
   "metadata": {},
   "outputs": [],
   "source": [
    "from matplotlib import pyplot as plt\n"
   ]
  },
  {
   "cell_type": "code",
   "execution_count": 12,
   "id": "ffc20bb2",
   "metadata": {},
   "outputs": [
    {
     "data": {
      "image/png": "[encoded data removed]",
      "text/plain": [
       "<Figure size 432x432 with 1 Axes>"
      ]
     },
     "metadata": {
      "needs_background": "light"
     },
     "output_type": "display_data"
    }
   ],
   "source": [
    "def accuracy_loss_graph(history):\n",
    "    plt.figure(figsize=(6,6))\n",
    "    plt.plot(history.history['loss'], label='loss', color='blue')\n",
    "    plt.plot(history.history['val_loss'], label='val_loss', color='orange')\n",
    "    plt.legend()\n",
    "    plt.title('training and validation loss graph')\n",
    "    plt.xlabel('epochs')\n",
    "    plt.ylabel('Loss')\n",
    "    plt.show()\n",
    "accuracy_loss_graph(history)"
   ]
  },
  {
   "cell_type": "code",
   "execution_count": 13,
   "id": "3e697080",
   "metadata": {},
   "outputs": [
    {
     "data": {
      "image/png": "[encoded data removed]",
      "text/plain": [
       "<Figure size 576x576 with 1 Axes>"
      ]
     },
     "metadata": {
      "needs_background": "light"
     },
     "output_type": "display_data"
    }
   ],
   "source": [
    "def accuracy_loss_graph(history):\n",
    "    plt.figure(figsize=(8,8))\n",
    "    plt.plot(history.history['accuracy'], label='accuracy', color='blue')\n",
    "    plt.plot(history.history['val_accuracy'], label='val_accuracy', color='orange')\n",
    "    plt.legend()\n",
    "    plt.title('training and validation loss graph')\n",
    "    plt.xlabel('epochs')\n",
    "    plt.ylabel('Accuracy')\n",
    "    plt.show()\n",
    "accuracy_loss_graph(history)"
   ]
  },
  {
   "cell_type": "code",
   "execution_count": 14,
   "id": "50f4f842",
   "metadata": {},
   "outputs": [
    {
     "name": "stdout",
     "output_type": "stream",
     "text": [
      "1/1 [==============================] - 1s 641ms/step - loss: 0.8138 - accuracy: 0.6000\n"
     ]
    }
   ],
   "source": [
    "_, acc = model.evaluate(test_it)"
   ]
  },
  {
   "cell_type": "code",
   "execution_count": 15,
   "id": "8547b590",
   "metadata": {},
   "outputs": [
    {
     "name": "stdout",
     "output_type": "stream",
     "text": [
      "Accuracy is : 60.0\n"
     ]
    }
   ],
   "source": [
    "print(f'Accuracy is : {round(acc*100,2)}')"
   ]
  },
  {
   "cell_type": "code",
   "execution_count": 16,
   "id": "2e06b641",
   "metadata": {},
   "outputs": [
    {
     "data": {
      "text/plain": [
       "array([0, 0, 0, 0, 0, 0, 0, 0, 0, 0, 0, 0, 1, 1, 1, 1, 1, 1, 1, 1, 1, 1,\n",
       "       1, 1, 2, 2, 2, 2, 2, 2, 2, 2, 2, 2, 2])"
      ]
     },
     "execution_count": 16,
     "metadata": {},
     "output_type": "execute_result"
    }
   ],
   "source": [
    "test_it.classes"
   ]
  },
  {
   "cell_type": "code",
   "execution_count": 24,
   "id": "ee93658c",
   "metadata": {},
   "outputs": [],
   "source": [
    "import numpy as np"
   ]
  },
  {
   "cell_type": "code",
   "execution_count": 18,
   "id": "c11fcb6f",
   "metadata": {},
   "outputs": [
    {
     "name": "stdout",
     "output_type": "stream",
     "text": [
      "1/1 [==============================] - 1s 878ms/step\n"
     ]
    },
    {
     "data": {
      "text/plain": [
       "array([0, 0, 2, 2, 1, 2, 2, 2, 2, 2, 1, 2, 2, 0, 0, 2, 2, 2, 2, 0, 2, 2,\n",
       "       2, 1, 0, 1, 0, 0, 0, 0, 2, 1, 0, 2, 2], dtype=int64)"
      ]
     },
     "execution_count": 18,
     "metadata": {},
     "output_type": "execute_result"
    }
   ],
   "source": [
    "predicted_value=np.argmax(model.predict(test_it),axis=-1)\n",
    "predicted_value"
   ]
  },
  {
   "cell_type": "code",
   "execution_count": 19,
   "id": "be1b9ad1",
   "metadata": {},
   "outputs": [],
   "source": [
    "from sklearn.metrics import accuracy_score"
   ]
  },
  {
   "cell_type": "code",
   "execution_count": 20,
   "id": "f80ffef7",
   "metadata": {},
   "outputs": [],
   "source": [
    "from sklearn.metrics import classification_report"
   ]
  },
  {
   "cell_type": "code",
   "execution_count": 21,
   "id": "dc4a152a",
   "metadata": {},
   "outputs": [],
   "source": [
    "from sklearn.metrics import confusion_matrix"
   ]
  },
  {
   "cell_type": "code",
   "execution_count": 22,
   "id": "56b08863",
   "metadata": {},
   "outputs": [
    {
     "name": "stdout",
     "output_type": "stream",
     "text": [
      "[[2 2 8]\n",
      " [3 1 8]\n",
      " [6 2 3]]\n"
     ]
    }
   ],
   "source": [
    "cm = confusion_matrix(test_it.classes,predicted_value)\n",
    "print(cm)"
   ]
  },
  {
   "cell_type": "code",
   "execution_count": 25,
   "id": "ebd69461",
   "metadata": {},
   "outputs": [],
   "source": [
    "import seaborn as sns"
   ]
  },
  {
   "cell_type": "code",
   "execution_count": 26,
   "id": "ac8573ea",
   "metadata": {},
   "outputs": [
    {
     "data": {
      "text/plain": [
       "<AxesSubplot:>"
      ]
     },
     "execution_count": 26,
     "metadata": {},
     "output_type": "execute_result"
    },
    {
     "data": {
      "image/png": "[encoded data removed]",
      "text/plain": [
       "<Figure size 432x288 with 2 Axes>"
      ]
     },
     "metadata": {
      "needs_background": "light"
     },
     "output_type": "display_data"
    }
   ],
   "source": [
    "sns.heatmap(cm, annot=True, fmt='d', cmap=\"Blues\")"
   ]
  },
  {
   "cell_type": "code",
   "execution_count": 27,
   "id": "2fc5d1f7",
   "metadata": {},
   "outputs": [
    {
     "name": "stdout",
     "output_type": "stream",
     "text": [
      "classification report \n",
      "               precision    recall  f1-score   support\n",
      "\n",
      "           0       0.18      0.17      0.17        12\n",
      "           1       0.20      0.08      0.12        12\n",
      "           2       0.16      0.27      0.20        11\n",
      "\n",
      "    accuracy                           0.17        35\n",
      "   macro avg       0.18      0.17      0.16        35\n",
      "weighted avg       0.18      0.17      0.16        35\n",
      "\n"
     ]
    }
   ],
   "source": [
    "print('classification report \\n',classification_report(test_it.classes,predicted_value))"
   ]
  },
  {
   "cell_type": "code",
   "execution_count": null,
   "id": "c9f949d9",
   "metadata": {},
   "outputs": [],
   "source": []
  }
 ],
 "metadata": {
  "kernelspec": {
   "display_name": "Python 3",
   "language": "python",
   "name": "python3"
  },
  "language_info": {
   "codemirror_mode": {
    "name": "ipython",
    "version": 3
   },
   "file_extension": ".py",
   "mimetype": "text/x-python",
   "name": "python",
   "nbconvert_exporter": "python",
   "pygments_lexer": "ipython3",
   "version": "3.8.8"
  }
 },
 "nbformat": 4,
 "nbformat_minor": 5
}
